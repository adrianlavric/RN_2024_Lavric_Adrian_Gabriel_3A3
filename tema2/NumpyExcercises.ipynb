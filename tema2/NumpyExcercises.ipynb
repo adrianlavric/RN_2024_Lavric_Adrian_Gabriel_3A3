{
  "metadata": {
    "kernelspec": {
      "language": "python",
      "display_name": "Python 3",
      "name": "python3"
    },
    "language_info": {
      "name": "python",
      "version": "3.10.14",
      "mimetype": "text/x-python",
      "codemirror_mode": {
        "name": "ipython",
        "version": 3
      },
      "pygments_lexer": "ipython3",
      "nbconvert_exporter": "python",
      "file_extension": ".py"
    },
    "kaggle": {
      "accelerator": "none",
      "dataSources": [],
      "dockerImageVersionId": 30775,
      "isInternetEnabled": true,
      "language": "python",
      "sourceType": "notebook",
      "isGpuEnabled": false
    },
    "colab": {
      "provenance": []
    }
  },
  "nbformat_minor": 0,
  "nbformat": 4,
  "cells": [
    {
      "cell_type": "markdown",
      "metadata": {
        "id": "view-in-github"
      },
      "source": [
        "<a href=\"https://colab.research.google.com/github/Tensor-Reloaded/Neural-Networks-Template-2024/blob/main/Lab02/NumpyExcercises.ipynb\" target=\"_parent\"><img src=\"https://colab.research.google.com/assets/colab-badge.svg\" alt=\"Open In Colab\"/></a>"
      ]
    },
    {
      "cell_type": "markdown",
      "source": [
        "# Excercises with numpy"
      ],
      "metadata": {
        "id": "1osmmLv1t8Vc"
      }
    },
    {
      "cell_type": "code",
      "source": [
        "%pip install timed-decorator"
      ],
      "metadata": {
        "colab": {
          "base_uri": "https://localhost:8080/"
        },
        "id": "R-psdy852TWD",
        "outputId": "48ccdbf4-231b-4f70-9a27-6cfee321756c"
      },
      "execution_count": 1,
      "outputs": [
        {
          "output_type": "stream",
          "name": "stdout",
          "text": [
            "Collecting timed-decorator\n",
            "  Downloading timed_decorator-1.5.2-py3-none-any.whl.metadata (18 kB)\n",
            "Downloading timed_decorator-1.5.2-py3-none-any.whl (12 kB)\n",
            "Installing collected packages: timed-decorator\n",
            "Successfully installed timed-decorator-1.5.2\n"
          ]
        }
      ]
    },
    {
      "cell_type": "code",
      "source": [
        "import numpy as np\n",
        "from sklearn.metrics import confusion_matrix, accuracy_score, f1_score\n",
        "from timed_decorator.simple_timed import timed\n",
        "from typing import Tuple"
      ],
      "metadata": {
        "id": "Pv2iHv15vu67"
      },
      "execution_count": 6,
      "outputs": []
    },
    {
      "cell_type": "code",
      "source": [
        "predicted = np.array([\n",
        "    1,1,1,0,1,0,1,1,0,0\n",
        "])\n",
        "actual = np.array([\n",
        "    1,1,1,1,0,0,1,0,0,0\n",
        "])\n",
        "\n",
        "big_size = 500000\n",
        "big_actual = np.repeat(actual, big_size)\n",
        "big_predicted = np.repeat(predicted, big_size)\n"
      ],
      "metadata": {
        "id": "7OOZ-UGxt77b"
      },
      "execution_count": 7,
      "outputs": []
    },
    {
      "cell_type": "markdown",
      "source": [
        "If you are not familiar with the confusion matrix for binary classification, check https://www.geeksforgeeks.org/confusion-matrix-machine-learning/#what-is-a-confusion-matrix"
      ],
      "metadata": {
        "id": "WR9T8rfg94YQ"
      }
    },
    {
      "cell_type": "markdown",
      "source": [
        "### Exercise 1\n",
        "\n",
        "Implement a method to retrieve the confusion matrix values using numpy operations. Aim to make your method faster than the sklearn implementation."
      ],
      "metadata": {
        "id": "DlvLoCK835ta"
      }
    },
    {
      "cell_type": "code",
      "source": [
        "@timed(use_seconds=True, show_args=True)\n",
        "def tp_fp_fn_tn_sklearn(gt: np.ndarray, pred: np.ndarray) -> Tuple[int, ...]:\n",
        "    tn, fp, fn, tp = confusion_matrix(gt, pred).ravel()\n",
        "    return tp, fp, fn, tn\n",
        "\n",
        "\n",
        "@timed(use_seconds=True, show_args=True)\n",
        "def tp_fp_fn_tn_numpy(gt: np.ndarray, pred: np.ndarray) -> Tuple[int, ...]:\n",
        "    tp = np.sum((gt == 1) & (pred == 1))\n",
        "    fp = np.sum((gt == 0) & (pred == 1))\n",
        "    fn = np.sum((gt == 1) & (pred == 0))\n",
        "    tn = np.sum((gt == 0) & (pred == 0))\n",
        "\n",
        "    return tp, fp, fn, tn\n",
        "\n",
        "\n",
        "assert tp_fp_fn_tn_sklearn(actual, predicted) == tp_fp_fn_tn_numpy(actual, predicted)"
      ],
      "metadata": {
        "id": "KXCV8jvPydpC",
        "colab": {
          "base_uri": "https://localhost:8080/"
        },
        "outputId": "2a695e46-766a-4f00-c2f9-5187efae4aef"
      },
      "execution_count": 13,
      "outputs": [
        {
          "output_type": "stream",
          "name": "stdout",
          "text": [
            "tp_fp_fn_tn_sklearn(ndarray(10,), ndarray(10,)) -> total time: 0.001918110s\n",
            "tp_fp_fn_tn_numpy(ndarray(10,), ndarray(10,)) -> total time: 0.000218834s\n"
          ]
        }
      ]
    },
    {
      "cell_type": "code",
      "source": [
        "rez_1 = tp_fp_fn_tn_sklearn(big_actual, big_predicted)\n",
        "rez_2 = tp_fp_fn_tn_numpy(big_actual, big_predicted)\n",
        "\n",
        "assert rez_1 == rez_2"
      ],
      "metadata": {
        "id": "qlxFQ_1Pywjb",
        "colab": {
          "base_uri": "https://localhost:8080/"
        },
        "outputId": "ce2f69e1-4770-46fc-aff9-b090fdcc10ce"
      },
      "execution_count": 17,
      "outputs": [
        {
          "output_type": "stream",
          "name": "stdout",
          "text": [
            "tp_fp_fn_tn_sklearn(ndarray(5000000,), ndarray(5000000,)) -> total time: 1.075039047s\n",
            "tp_fp_fn_tn_numpy(ndarray(5000000,), ndarray(5000000,)) -> total time: 0.056006424s\n"
          ]
        }
      ]
    },
    {
      "cell_type": "markdown",
      "source": [
        "```\n",
        "tp_fp_fn_tn_sklearn(ndarray(5000000,), ndarray(5000000,)) -> total time: 1.362611559s\n",
        "tp_fp_fn_tn_numpy(ndarray(5000000,), ndarray(5000000,)) -> total time: 0.061580794s\n",
        "```"
      ],
      "metadata": {
        "id": "LuJUVV1c_Iu8"
      }
    },
    {
      "cell_type": "markdown",
      "source": [
        "### Exercise 2\n",
        "\n",
        "Implement a method to retrieve the calculate the accuracy using numpy operations."
      ],
      "metadata": {
        "id": "9VtOouGY-dGU"
      }
    },
    {
      "cell_type": "markdown",
      "source": [
        "Accuracy = $\\frac{TP + TN}{TP + FP + FN + TN}$"
      ],
      "metadata": {
        "id": "FrOvVlQi6Vqx"
      }
    },
    {
      "cell_type": "code",
      "source": [
        "@timed(use_seconds=True, show_args=True)\n",
        "def accuracy_sklearn(gt: np.ndarray, pred: np.ndarray) -> float:\n",
        "    return accuracy_score(gt, pred)\n",
        "\n",
        "\n",
        "@timed(use_seconds=True, show_args=True)\n",
        "def accuracy_numpy(gt: np.ndarray, pred: np.ndarray) -> float:\n",
        "    tp, fp, fn, tn = tp_fp_fn_tn_numpy(gt, pred)\n",
        "    accuracy = (tp + tn) / (tp + fp + fn + tn)\n",
        "    return accuracy\n",
        "\n",
        "\n",
        "assert accuracy_sklearn(actual, predicted) == accuracy_numpy(actual, predicted)"
      ],
      "metadata": {
        "id": "FvGCS4wo149M",
        "colab": {
          "base_uri": "https://localhost:8080/"
        },
        "outputId": "40f68834-e473-42ab-b46d-cd66a90c27d9"
      },
      "execution_count": 24,
      "outputs": [
        {
          "output_type": "stream",
          "name": "stdout",
          "text": [
            "accuracy_sklearn(ndarray(10,), ndarray(10,)) -> total time: 0.001198934s\n",
            "tp_fp_fn_tn_numpy(ndarray(10,), ndarray(10,)) -> total time: 0.000184880s\n",
            "accuracy_numpy(ndarray(10,), ndarray(10,)) -> total time: 0.219405782s\n"
          ]
        }
      ]
    },
    {
      "cell_type": "code",
      "source": [
        "rez_1 = accuracy_sklearn(big_actual, big_predicted)\n",
        "rez_2 = accuracy_numpy(big_actual, big_predicted)\n",
        "\n",
        "assert np.isclose(rez_1, rez_2)"
      ],
      "metadata": {
        "id": "yYwMTAdX13RU",
        "colab": {
          "base_uri": "https://localhost:8080/"
        },
        "outputId": "1814c863-33ee-4cac-ee8d-7d9fd33900d0"
      },
      "execution_count": 23,
      "outputs": [
        {
          "output_type": "stream",
          "name": "stdout",
          "text": [
            "accuracy_sklearn(ndarray(5000000,), ndarray(5000000,)) -> total time: 0.547082107s\n",
            "tp_fp_fn_tn_numpy(ndarray(5000000,), ndarray(5000000,)) -> total time: 0.078616150s\n",
            "accuracy_numpy(ndarray(5000000,), ndarray(5000000,)) -> total time: 0.307812925s\n"
          ]
        }
      ]
    },
    {
      "cell_type": "markdown",
      "source": [
        "```\n",
        "accuracy_sklearn(ndarray(5000000,), ndarray(5000000,)) -> total time: 0.737005607s\n",
        "accuracy_numpy(ndarray(5000000,), ndarray(5000000,)) -> total time: 0.045633154s\n",
        "```"
      ],
      "metadata": {
        "id": "Y4vOxFRX_DbN"
      }
    },
    {
      "cell_type": "markdown",
      "source": [
        "## Excercise 3\n",
        "\n",
        "Implement a method to calculate the F1-Score using numpy operations. Be careful at corner cases (divide by 0)."
      ],
      "metadata": {
        "id": "9a4kiUip-iaB"
      }
    },
    {
      "cell_type": "markdown",
      "source": [
        "Precision = $\\frac{TP}{TP + FP}$\n",
        "\n",
        "Recall = $\\frac{TP}{TP + FN}$\n",
        "\n",
        "F1-Score = $2 \\cdot \\frac{Precision \\cdot Recall}{Precision + Recall}$"
      ],
      "metadata": {
        "id": "xlVLJUKe6nLf"
      }
    },
    {
      "cell_type": "code",
      "source": [
        "@timed(use_seconds=True, show_args=True)\n",
        "def f1_score_sklearn(gt: np.ndarray, pred: np.ndarray) -> float:\n",
        "    return f1_score(gt, pred)\n",
        "\n",
        "\n",
        "@timed(use_seconds=True, show_args=True)\n",
        "def f1_score_numpy(gt: np.ndarray, pred: np.ndarray) -> float:\n",
        "    tp, fp, fn, tn = tp_fp_fn_tn_numpy(gt, pred)\n",
        "    precision = np.divide(tp, (tp + fp), where=(tp + fp) > 0)\n",
        "    recall = np.divide(tp, (tp + fn), where=(tp + fn) > 0)\n",
        "    denominator = precision + recall\n",
        "    f1 = np.divide(2 * precision * recall, denominator, where=denominator > 0)\n",
        "    return np.clip(f1, 0, 1)\n",
        "\n",
        "assert f1_score_sklearn(actual, predicted) == f1_score_numpy(actual, predicted)"
      ],
      "metadata": {
        "id": "bf26jyp65jWp",
        "colab": {
          "base_uri": "https://localhost:8080/",
          "height": 228
        },
        "outputId": "6b99e8f8-c175-4fd7-c032-b06042a71717"
      },
      "execution_count": 35,
      "outputs": [
        {
          "output_type": "stream",
          "name": "stdout",
          "text": [
            "f1_score_sklearn(ndarray(10,), ndarray(10,)) -> total time: 0.004413808s\n",
            "tp_fp_fn_tn_numpy(ndarray(10,), ndarray(10,)) -> total time: 0.000184835s\n",
            "f1_score_numpy(ndarray(10,), ndarray(10,)) -> total time: 0.154299574s\n"
          ]
        },
        {
          "output_type": "error",
          "ename": "AssertionError",
          "evalue": "",
          "traceback": [
            "\u001b[0;31m---------------------------------------------------------------------------\u001b[0m",
            "\u001b[0;31mAssertionError\u001b[0m                            Traceback (most recent call last)",
            "\u001b[0;32m<ipython-input-35-4ff6439f14de>\u001b[0m in \u001b[0;36m<cell line: 15>\u001b[0;34m()\u001b[0m\n\u001b[1;32m     13\u001b[0m     \u001b[0;32mreturn\u001b[0m \u001b[0mnp\u001b[0m\u001b[0;34m.\u001b[0m\u001b[0mclip\u001b[0m\u001b[0;34m(\u001b[0m\u001b[0mf1\u001b[0m\u001b[0;34m,\u001b[0m \u001b[0;36m0\u001b[0m\u001b[0;34m,\u001b[0m \u001b[0;36m1\u001b[0m\u001b[0;34m)\u001b[0m\u001b[0;34m\u001b[0m\u001b[0;34m\u001b[0m\u001b[0m\n\u001b[1;32m     14\u001b[0m \u001b[0;34m\u001b[0m\u001b[0m\n\u001b[0;32m---> 15\u001b[0;31m \u001b[0;32massert\u001b[0m \u001b[0mf1_score_sklearn\u001b[0m\u001b[0;34m(\u001b[0m\u001b[0mactual\u001b[0m\u001b[0;34m,\u001b[0m \u001b[0mpredicted\u001b[0m\u001b[0;34m)\u001b[0m \u001b[0;34m==\u001b[0m \u001b[0mf1_score_numpy\u001b[0m\u001b[0;34m(\u001b[0m\u001b[0mactual\u001b[0m\u001b[0;34m,\u001b[0m \u001b[0mpredicted\u001b[0m\u001b[0;34m)\u001b[0m\u001b[0;34m\u001b[0m\u001b[0;34m\u001b[0m\u001b[0m\n\u001b[0m",
            "\u001b[0;31mAssertionError\u001b[0m: "
          ]
        }
      ]
    },
    {
      "cell_type": "code",
      "source": [
        "rez_1 = f1_score_sklearn(big_actual, big_predicted)\n",
        "rez_2 = f1_score_numpy(big_actual, big_predicted)\n",
        "\n",
        "assert np.isclose(rez_1, rez_2)"
      ],
      "metadata": {
        "id": "a2LsucKI5rB4",
        "colab": {
          "base_uri": "https://localhost:8080/"
        },
        "outputId": "78777bef-382e-4097-9e88-a62f2c1d2571"
      },
      "execution_count": 37,
      "outputs": [
        {
          "output_type": "stream",
          "name": "stdout",
          "text": [
            "f1_score_sklearn(ndarray(5000000,), ndarray(5000000,)) -> total time: 2.873626249s\n",
            "tp_fp_fn_tn_numpy(ndarray(5000000,), ndarray(5000000,)) -> total time: 0.076009145s\n",
            "f1_score_numpy(ndarray(5000000,), ndarray(5000000,)) -> total time: 0.296328453s\n"
          ]
        }
      ]
    },
    {
      "cell_type": "markdown",
      "source": [
        "```\n",
        "f1_score_sklearn(ndarray(5000000,), ndarray(5000000,)) -> total time: 5.300984584s\n",
        "f1_score_numpy(ndarray(5000000,), ndarray(5000000,)) -> total time: 0.042523483s\n",
        "```"
      ],
      "metadata": {
        "id": "uVLThSs4-9GP"
      }
    }
  ]
}