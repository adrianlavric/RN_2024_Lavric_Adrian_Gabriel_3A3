{
  "nbformat": 4,
  "nbformat_minor": 0,
  "metadata": {
    "colab": {
      "provenance": []
    },
    "kernelspec": {
      "name": "python3",
      "display_name": "Python 3"
    },
    "language_info": {
      "name": "python"
    }
  },
  "cells": [
    {
      "cell_type": "markdown",
      "source": [
        " Load MNIST dataset."
      ],
      "metadata": {
        "id": "MBfVJt61x7eE"
      }
    },
    {
      "cell_type": "code",
      "execution_count": 1,
      "metadata": {
        "colab": {
          "base_uri": "https://localhost:8080/"
        },
        "id": "TGrhKvUiwJUA",
        "outputId": "43696dcd-f4ce-4815-9d25-b5f947a5b3ae"
      },
      "outputs": [
        {
          "output_type": "stream",
          "name": "stdout",
          "text": [
            "Downloading http://yann.lecun.com/exdb/mnist/train-images-idx3-ubyte.gz\n",
            "Failed to download (trying next):\n",
            "<urlopen error [SSL: CERTIFICATE_VERIFY_FAILED] certificate verify failed: certificate has expired (_ssl.c:1007)>\n",
            "\n",
            "Downloading https://ossci-datasets.s3.amazonaws.com/mnist/train-images-idx3-ubyte.gz\n",
            "Downloading https://ossci-datasets.s3.amazonaws.com/mnist/train-images-idx3-ubyte.gz to ./data/MNIST/raw/train-images-idx3-ubyte.gz\n"
          ]
        },
        {
          "output_type": "stream",
          "name": "stderr",
          "text": [
            "100%|██████████| 9.91M/9.91M [00:00<00:00, 128MB/s]\n"
          ]
        },
        {
          "output_type": "stream",
          "name": "stdout",
          "text": [
            "Extracting ./data/MNIST/raw/train-images-idx3-ubyte.gz to ./data/MNIST/raw\n",
            "\n",
            "Downloading http://yann.lecun.com/exdb/mnist/train-labels-idx1-ubyte.gz\n",
            "Failed to download (trying next):\n",
            "<urlopen error [SSL: CERTIFICATE_VERIFY_FAILED] certificate verify failed: certificate has expired (_ssl.c:1007)>\n",
            "\n",
            "Downloading https://ossci-datasets.s3.amazonaws.com/mnist/train-labels-idx1-ubyte.gz\n",
            "Downloading https://ossci-datasets.s3.amazonaws.com/mnist/train-labels-idx1-ubyte.gz to ./data/MNIST/raw/train-labels-idx1-ubyte.gz\n"
          ]
        },
        {
          "output_type": "stream",
          "name": "stderr",
          "text": [
            "100%|██████████| 28.9k/28.9k [00:00<00:00, 59.0MB/s]"
          ]
        },
        {
          "output_type": "stream",
          "name": "stdout",
          "text": [
            "Extracting ./data/MNIST/raw/train-labels-idx1-ubyte.gz to ./data/MNIST/raw\n",
            "\n",
            "Downloading http://yann.lecun.com/exdb/mnist/t10k-images-idx3-ubyte.gz\n"
          ]
        },
        {
          "output_type": "stream",
          "name": "stderr",
          "text": [
            "\n"
          ]
        },
        {
          "output_type": "stream",
          "name": "stdout",
          "text": [
            "Failed to download (trying next):\n",
            "<urlopen error [SSL: CERTIFICATE_VERIFY_FAILED] certificate verify failed: certificate has expired (_ssl.c:1007)>\n",
            "\n",
            "Downloading https://ossci-datasets.s3.amazonaws.com/mnist/t10k-images-idx3-ubyte.gz\n",
            "Downloading https://ossci-datasets.s3.amazonaws.com/mnist/t10k-images-idx3-ubyte.gz to ./data/MNIST/raw/t10k-images-idx3-ubyte.gz\n"
          ]
        },
        {
          "output_type": "stream",
          "name": "stderr",
          "text": [
            "100%|██████████| 1.65M/1.65M [00:00<00:00, 111MB/s]\n"
          ]
        },
        {
          "output_type": "stream",
          "name": "stdout",
          "text": [
            "Extracting ./data/MNIST/raw/t10k-images-idx3-ubyte.gz to ./data/MNIST/raw\n",
            "\n",
            "Downloading http://yann.lecun.com/exdb/mnist/t10k-labels-idx1-ubyte.gz\n",
            "Failed to download (trying next):\n",
            "<urlopen error [SSL: CERTIFICATE_VERIFY_FAILED] certificate verify failed: certificate has expired (_ssl.c:1007)>\n",
            "\n",
            "Downloading https://ossci-datasets.s3.amazonaws.com/mnist/t10k-labels-idx1-ubyte.gz\n",
            "Downloading https://ossci-datasets.s3.amazonaws.com/mnist/t10k-labels-idx1-ubyte.gz to ./data/MNIST/raw/t10k-labels-idx1-ubyte.gz\n"
          ]
        },
        {
          "output_type": "stream",
          "name": "stderr",
          "text": [
            "100%|██████████| 4.54k/4.54k [00:00<00:00, 4.31MB/s]\n"
          ]
        },
        {
          "output_type": "stream",
          "name": "stdout",
          "text": [
            "Extracting ./data/MNIST/raw/t10k-labels-idx1-ubyte.gz to ./data/MNIST/raw\n",
            "\n",
            "Training data shape: (60000, 784), Training labels shape: (60000, 10)\n",
            "Test data shape: (10000, 784), Test labels shape: (10000, 10)\n"
          ]
        }
      ],
      "source": [
        "import numpy as np\n",
        "from torchvision.datasets import MNIST\n",
        "from sklearn.preprocessing import OneHotEncoder\n",
        "import matplotlib.pyplot as plt\n",
        "\n",
        "def download_mnist(is_train=True):\n",
        "    dataset = MNIST(root='./data',\n",
        "                    transform=lambda x: np.array(x).flatten(),\n",
        "                    download=True,\n",
        "                    train=is_train)\n",
        "\n",
        "    data = []\n",
        "    labels = []\n",
        "    for img, label in dataset:\n",
        "        data.append(img)\n",
        "        labels.append(label)\n",
        "\n",
        "    return np.array(data).astype(np.float32) / 255.0, np.array(labels)\n",
        "\n",
        "train_X, train_Y = download_mnist(True)\n",
        "test_X, test_Y = download_mnist(False)\n",
        "\n",
        "encoder = OneHotEncoder(sparse_output=False)\n",
        "train_Y_one_hot = encoder.fit_transform(train_Y.reshape(-1, 1))\n",
        "test_Y_one_hot = encoder.transform(test_Y.reshape(-1, 1))\n",
        "\n",
        "print(f\"Training data shape: {train_X.shape}, Training labels shape: {train_Y_one_hot.shape}\")\n",
        "print(f\"Test data shape: {test_X.shape}, Test labels shape: {test_Y_one_hot.shape}\")"
      ]
    },
    {
      "cell_type": "markdown",
      "source": [
        "Initialize Weights and Biases."
      ],
      "metadata": {
        "id": "2S0kQ6Rc1knY"
      }
    },
    {
      "cell_type": "code",
      "source": [
        "input_size = 784\n",
        "hidden_size = 100\n",
        "output_size = 10\n",
        "\n",
        "np.random.seed(42)\n",
        "W1 = np.random.randn(input_size, hidden_size) * 0.01\n",
        "b1 = np.zeros(hidden_size)\n",
        "W2 = np.random.randn(hidden_size, output_size) * 0.01\n",
        "b2 = np.zeros(output_size)\n",
        "\n",
        "input_size = 784\n",
        "hidden_size = 100\n",
        "output_size = 10\n",
        "learning_rate = 0.01\n",
        "dropout_rate = 0.2\n",
        "\n",
        "W1 = np.random.randn(input_size, hidden_size) * np.sqrt(2.0 / (input_size + hidden_size))\n",
        "b1 = np.zeros((1, hidden_size))\n",
        "W2 = np.random.randn(hidden_size, output_size) * np.sqrt(2.0 / (hidden_size + output_size))\n",
        "b2 = np.zeros((1, output_size))"
      ],
      "metadata": {
        "id": "GY6-POGK2Ct7"
      },
      "execution_count": 2,
      "outputs": []
    },
    {
      "cell_type": "markdown",
      "source": [
        "Implement activation functions.\n"
      ],
      "metadata": {
        "id": "35Enc1Jo2RQi"
      }
    },
    {
      "cell_type": "code",
      "source": [
        "def relu(Z):\n",
        "    return np.maximum(0, Z)\n",
        "\n",
        "def relu_derivative(Z):\n",
        "    return Z > 0\n",
        "\n",
        "def softmax(Z):\n",
        "    expZ = np.exp(Z - np.max(Z, axis=1, keepdims=True))\n",
        "    return expZ / expZ.sum(axis=1, keepdims=True)"
      ],
      "metadata": {
        "id": "PdIaCk4a2UHL"
      },
      "execution_count": 3,
      "outputs": []
    },
    {
      "cell_type": "markdown",
      "source": [
        "Implement Forward Propagation.\n"
      ],
      "metadata": {
        "id": "1uZTaxVS2cBR"
      }
    },
    {
      "cell_type": "code",
      "source": [
        "def forward_propagation(X, keep_prob=1.0):\n",
        "    Z1 = np.dot(X, W1) + b1\n",
        "    A1 = relu(Z1)\n",
        "\n",
        "    D1 = (np.random.rand(*A1.shape) < keep_prob).astype(float)\n",
        "    A1 *= D1\n",
        "    A1 /= keep_prob\n",
        "\n",
        "    Z2 = np.dot(A1, W2) + b2\n",
        "    A2 = softmax(Z2)\n",
        "    return Z1, A1, D1, Z2, A2"
      ],
      "metadata": {
        "id": "UXt97H_h2fAD"
      },
      "execution_count": 4,
      "outputs": []
    },
    {
      "cell_type": "markdown",
      "source": [
        "Cross-Entropy"
      ],
      "metadata": {
        "id": "X3Qfepj55LjT"
      }
    },
    {
      "cell_type": "code",
      "source": [
        "def cross_entropy_loss(y_true, y_pred):\n",
        "    m = y_true.shape[0]\n",
        "    loss = -np.sum(y_true * np.log(y_pred + 1e-8)) / m\n",
        "    return loss"
      ],
      "metadata": {
        "id": "7XF4f6Iv5Qfm"
      },
      "execution_count": 5,
      "outputs": []
    },
    {
      "cell_type": "markdown",
      "source": [
        " Implement Backward Propagation"
      ],
      "metadata": {
        "id": "5BQ_-0Z92rgk"
      }
    },
    {
      "cell_type": "code",
      "source": [
        "def backward_propagation(X, Y, Z1, A1, D1, Z2, A2, keep_prob=1.0):\n",
        "    m = X.shape[0]\n",
        "\n",
        "    dZ2 = A2 - Y\n",
        "    dW2 = (1 / m) * np.dot(A1.T, dZ2)\n",
        "    db2 = (1 / m) * np.sum(dZ2, axis=0, keepdims=True)\n",
        "\n",
        "    dA1 = np.dot(dZ2, W2.T) * D1\n",
        "    dA1 /= keep_prob\n",
        "    dZ1 = dA1 * relu_derivative(Z1)\n",
        "    dW1 = (1 / m) * np.dot(X.T, dZ1)\n",
        "    db1 = (1 / m) * np.sum(dZ1, axis=0, keepdims=True)\n",
        "\n",
        "    return dW1, db1, dW2, db2\n",
        "\n",
        "def update_parameters(dW1, db1, dW2, db2):\n",
        "    global W1, b1, W2, b2\n",
        "    W1 -= learning_rate * dW1\n",
        "    b1 -= learning_rate * db1\n",
        "    W2 -= learning_rate * dW2\n",
        "    b2 -= learning_rate * db2"
      ],
      "metadata": {
        "id": "XApHrItz20cI"
      },
      "execution_count": 6,
      "outputs": []
    },
    {
      "cell_type": "markdown",
      "source": [
        "Accuracy function."
      ],
      "metadata": {
        "id": "rVhXbVmI3B5B"
      }
    },
    {
      "cell_type": "code",
      "source": [
        "def accuracy(X, Y):\n",
        "    _, _, _, _, A2 = forward_propagation(X, keep_prob=1.0)\n",
        "    predictions = np.argmax(A2, axis=1)\n",
        "    labels = np.argmax(Y, axis=1)\n",
        "    return np.mean(predictions == labels)"
      ],
      "metadata": {
        "id": "WlaSxqsB3Gcq"
      },
      "execution_count": 7,
      "outputs": []
    },
    {
      "cell_type": "markdown",
      "source": [
        "Train model.\n"
      ],
      "metadata": {
        "id": "GUn4IvjOgn4J"
      }
    },
    {
      "cell_type": "code",
      "source": [
        "num_epochs = 100\n",
        "batch_size = 100\n",
        "\n",
        "for epoch in range(num_epochs):\n",
        "    indices = np.arange(train_X.shape[0])\n",
        "    np.random.shuffle(indices)\n",
        "    train_X_shuffled = train_X[indices]\n",
        "    train_Y_shuffled = train_Y_one_hot[indices]\n",
        "\n",
        "    epoch_cost = 0\n",
        "    for start in range(0, train_X.shape[0], batch_size):\n",
        "        end = start + batch_size\n",
        "        X_batch = train_X_shuffled[start:end]\n",
        "        Y_batch = train_Y_shuffled[start:end]\n",
        "\n",
        "        Z1, A1, D1, Z2, A2 = forward_propagation(X_batch, keep_prob=1 - dropout_rate)\n",
        "        cost = cross_entropy_loss(Y_batch, A2)\n",
        "        epoch_cost += cost\n",
        "        dW1, db1, dW2, db2 = backward_propagation(X_batch, Y_batch, Z1, A1, D1, Z2, A2, keep_prob=1 - dropout_rate)\n",
        "        update_parameters(dW1, db1, dW2, db2)\n",
        "\n",
        "    train_acc = accuracy(train_X, train_Y_one_hot)\n",
        "    val_acc = accuracy(test_X, test_Y_one_hot)\n",
        "    print(f\"Epoch {epoch + 1}/{num_epochs}, Cost: {epoch_cost / (len(train_X) / batch_size):.4f}, \"\n",
        "          f\"Train Accuracy: {train_acc:.4f}, Validation Accuracy: {val_acc:.4f}\")"
      ],
      "metadata": {
        "colab": {
          "base_uri": "https://localhost:8080/"
        },
        "id": "LRgwTrZHgpY6",
        "outputId": "a7990a54-61c3-4520-bc7a-cedf13dfcd22"
      },
      "execution_count": 8,
      "outputs": [
        {
          "output_type": "stream",
          "name": "stdout",
          "text": [
            "Epoch 1/100, Cost: 1.1533, Train Accuracy: 0.8527, Validation Accuracy: 0.8604\n",
            "Epoch 2/100, Cost: 0.5950, Train Accuracy: 0.8817, Validation Accuracy: 0.8896\n",
            "Epoch 3/100, Cost: 0.4853, Train Accuracy: 0.8938, Validation Accuracy: 0.8999\n",
            "Epoch 4/100, Cost: 0.4348, Train Accuracy: 0.9011, Validation Accuracy: 0.9067\n",
            "Epoch 5/100, Cost: 0.4041, Train Accuracy: 0.9060, Validation Accuracy: 0.9123\n",
            "Epoch 6/100, Cost: 0.3814, Train Accuracy: 0.9112, Validation Accuracy: 0.9173\n",
            "Epoch 7/100, Cost: 0.3616, Train Accuracy: 0.9154, Validation Accuracy: 0.9192\n",
            "Epoch 8/100, Cost: 0.3454, Train Accuracy: 0.9187, Validation Accuracy: 0.9225\n",
            "Epoch 9/100, Cost: 0.3308, Train Accuracy: 0.9218, Validation Accuracy: 0.9247\n",
            "Epoch 10/100, Cost: 0.3188, Train Accuracy: 0.9244, Validation Accuracy: 0.9274\n",
            "Epoch 11/100, Cost: 0.3081, Train Accuracy: 0.9265, Validation Accuracy: 0.9285\n",
            "Epoch 12/100, Cost: 0.2980, Train Accuracy: 0.9296, Validation Accuracy: 0.9309\n",
            "Epoch 13/100, Cost: 0.2895, Train Accuracy: 0.9314, Validation Accuracy: 0.9320\n",
            "Epoch 14/100, Cost: 0.2832, Train Accuracy: 0.9338, Validation Accuracy: 0.9344\n",
            "Epoch 15/100, Cost: 0.2734, Train Accuracy: 0.9350, Validation Accuracy: 0.9359\n",
            "Epoch 16/100, Cost: 0.2694, Train Accuracy: 0.9369, Validation Accuracy: 0.9378\n",
            "Epoch 17/100, Cost: 0.2611, Train Accuracy: 0.9387, Validation Accuracy: 0.9394\n",
            "Epoch 18/100, Cost: 0.2571, Train Accuracy: 0.9403, Validation Accuracy: 0.9406\n",
            "Epoch 19/100, Cost: 0.2492, Train Accuracy: 0.9414, Validation Accuracy: 0.9418\n",
            "Epoch 20/100, Cost: 0.2439, Train Accuracy: 0.9430, Validation Accuracy: 0.9431\n",
            "Epoch 21/100, Cost: 0.2381, Train Accuracy: 0.9443, Validation Accuracy: 0.9428\n",
            "Epoch 22/100, Cost: 0.2349, Train Accuracy: 0.9455, Validation Accuracy: 0.9441\n",
            "Epoch 23/100, Cost: 0.2314, Train Accuracy: 0.9467, Validation Accuracy: 0.9447\n",
            "Epoch 24/100, Cost: 0.2262, Train Accuracy: 0.9476, Validation Accuracy: 0.9467\n",
            "Epoch 25/100, Cost: 0.2207, Train Accuracy: 0.9486, Validation Accuracy: 0.9477\n",
            "Epoch 26/100, Cost: 0.2185, Train Accuracy: 0.9499, Validation Accuracy: 0.9489\n",
            "Epoch 27/100, Cost: 0.2139, Train Accuracy: 0.9508, Validation Accuracy: 0.9487\n",
            "Epoch 28/100, Cost: 0.2096, Train Accuracy: 0.9513, Validation Accuracy: 0.9496\n",
            "Epoch 29/100, Cost: 0.2071, Train Accuracy: 0.9520, Validation Accuracy: 0.9501\n",
            "Epoch 30/100, Cost: 0.2037, Train Accuracy: 0.9530, Validation Accuracy: 0.9509\n",
            "Epoch 31/100, Cost: 0.2022, Train Accuracy: 0.9537, Validation Accuracy: 0.9515\n",
            "Epoch 32/100, Cost: 0.1979, Train Accuracy: 0.9544, Validation Accuracy: 0.9512\n",
            "Epoch 33/100, Cost: 0.1939, Train Accuracy: 0.9550, Validation Accuracy: 0.9520\n",
            "Epoch 34/100, Cost: 0.1927, Train Accuracy: 0.9558, Validation Accuracy: 0.9524\n",
            "Epoch 35/100, Cost: 0.1899, Train Accuracy: 0.9567, Validation Accuracy: 0.9530\n",
            "Epoch 36/100, Cost: 0.1862, Train Accuracy: 0.9572, Validation Accuracy: 0.9552\n",
            "Epoch 37/100, Cost: 0.1829, Train Accuracy: 0.9579, Validation Accuracy: 0.9543\n",
            "Epoch 38/100, Cost: 0.1824, Train Accuracy: 0.9585, Validation Accuracy: 0.9561\n",
            "Epoch 39/100, Cost: 0.1795, Train Accuracy: 0.9593, Validation Accuracy: 0.9563\n",
            "Epoch 40/100, Cost: 0.1787, Train Accuracy: 0.9599, Validation Accuracy: 0.9569\n",
            "Epoch 41/100, Cost: 0.1756, Train Accuracy: 0.9605, Validation Accuracy: 0.9565\n",
            "Epoch 42/100, Cost: 0.1744, Train Accuracy: 0.9609, Validation Accuracy: 0.9572\n",
            "Epoch 43/100, Cost: 0.1700, Train Accuracy: 0.9610, Validation Accuracy: 0.9577\n",
            "Epoch 44/100, Cost: 0.1689, Train Accuracy: 0.9619, Validation Accuracy: 0.9578\n",
            "Epoch 45/100, Cost: 0.1668, Train Accuracy: 0.9627, Validation Accuracy: 0.9583\n",
            "Epoch 46/100, Cost: 0.1655, Train Accuracy: 0.9632, Validation Accuracy: 0.9585\n",
            "Epoch 47/100, Cost: 0.1638, Train Accuracy: 0.9636, Validation Accuracy: 0.9596\n",
            "Epoch 48/100, Cost: 0.1631, Train Accuracy: 0.9641, Validation Accuracy: 0.9590\n",
            "Epoch 49/100, Cost: 0.1576, Train Accuracy: 0.9647, Validation Accuracy: 0.9598\n",
            "Epoch 50/100, Cost: 0.1596, Train Accuracy: 0.9646, Validation Accuracy: 0.9600\n",
            "Epoch 51/100, Cost: 0.1562, Train Accuracy: 0.9650, Validation Accuracy: 0.9601\n",
            "Epoch 52/100, Cost: 0.1572, Train Accuracy: 0.9656, Validation Accuracy: 0.9612\n",
            "Epoch 53/100, Cost: 0.1536, Train Accuracy: 0.9659, Validation Accuracy: 0.9607\n",
            "Epoch 54/100, Cost: 0.1533, Train Accuracy: 0.9661, Validation Accuracy: 0.9619\n",
            "Epoch 55/100, Cost: 0.1503, Train Accuracy: 0.9668, Validation Accuracy: 0.9630\n",
            "Epoch 56/100, Cost: 0.1494, Train Accuracy: 0.9670, Validation Accuracy: 0.9631\n",
            "Epoch 57/100, Cost: 0.1481, Train Accuracy: 0.9673, Validation Accuracy: 0.9631\n",
            "Epoch 58/100, Cost: 0.1481, Train Accuracy: 0.9678, Validation Accuracy: 0.9634\n",
            "Epoch 59/100, Cost: 0.1464, Train Accuracy: 0.9680, Validation Accuracy: 0.9642\n",
            "Epoch 60/100, Cost: 0.1443, Train Accuracy: 0.9682, Validation Accuracy: 0.9644\n",
            "Epoch 61/100, Cost: 0.1432, Train Accuracy: 0.9687, Validation Accuracy: 0.9644\n",
            "Epoch 62/100, Cost: 0.1409, Train Accuracy: 0.9692, Validation Accuracy: 0.9651\n",
            "Epoch 63/100, Cost: 0.1402, Train Accuracy: 0.9696, Validation Accuracy: 0.9650\n",
            "Epoch 64/100, Cost: 0.1402, Train Accuracy: 0.9698, Validation Accuracy: 0.9657\n",
            "Epoch 65/100, Cost: 0.1371, Train Accuracy: 0.9703, Validation Accuracy: 0.9659\n",
            "Epoch 66/100, Cost: 0.1379, Train Accuracy: 0.9705, Validation Accuracy: 0.9662\n",
            "Epoch 67/100, Cost: 0.1363, Train Accuracy: 0.9708, Validation Accuracy: 0.9668\n",
            "Epoch 68/100, Cost: 0.1348, Train Accuracy: 0.9711, Validation Accuracy: 0.9667\n",
            "Epoch 69/100, Cost: 0.1325, Train Accuracy: 0.9715, Validation Accuracy: 0.9672\n",
            "Epoch 70/100, Cost: 0.1342, Train Accuracy: 0.9717, Validation Accuracy: 0.9676\n",
            "Epoch 71/100, Cost: 0.1323, Train Accuracy: 0.9719, Validation Accuracy: 0.9675\n",
            "Epoch 72/100, Cost: 0.1315, Train Accuracy: 0.9723, Validation Accuracy: 0.9679\n",
            "Epoch 73/100, Cost: 0.1308, Train Accuracy: 0.9728, Validation Accuracy: 0.9674\n",
            "Epoch 74/100, Cost: 0.1292, Train Accuracy: 0.9730, Validation Accuracy: 0.9682\n",
            "Epoch 75/100, Cost: 0.1291, Train Accuracy: 0.9732, Validation Accuracy: 0.9680\n",
            "Epoch 76/100, Cost: 0.1275, Train Accuracy: 0.9736, Validation Accuracy: 0.9690\n",
            "Epoch 77/100, Cost: 0.1254, Train Accuracy: 0.9739, Validation Accuracy: 0.9693\n",
            "Epoch 78/100, Cost: 0.1270, Train Accuracy: 0.9743, Validation Accuracy: 0.9687\n",
            "Epoch 79/100, Cost: 0.1239, Train Accuracy: 0.9743, Validation Accuracy: 0.9691\n",
            "Epoch 80/100, Cost: 0.1237, Train Accuracy: 0.9745, Validation Accuracy: 0.9695\n",
            "Epoch 81/100, Cost: 0.1221, Train Accuracy: 0.9747, Validation Accuracy: 0.9696\n",
            "Epoch 82/100, Cost: 0.1224, Train Accuracy: 0.9750, Validation Accuracy: 0.9701\n",
            "Epoch 83/100, Cost: 0.1224, Train Accuracy: 0.9750, Validation Accuracy: 0.9703\n",
            "Epoch 84/100, Cost: 0.1205, Train Accuracy: 0.9756, Validation Accuracy: 0.9700\n",
            "Epoch 85/100, Cost: 0.1184, Train Accuracy: 0.9757, Validation Accuracy: 0.9701\n",
            "Epoch 86/100, Cost: 0.1175, Train Accuracy: 0.9761, Validation Accuracy: 0.9706\n",
            "Epoch 87/100, Cost: 0.1180, Train Accuracy: 0.9763, Validation Accuracy: 0.9708\n",
            "Epoch 88/100, Cost: 0.1182, Train Accuracy: 0.9765, Validation Accuracy: 0.9707\n",
            "Epoch 89/100, Cost: 0.1192, Train Accuracy: 0.9766, Validation Accuracy: 0.9704\n",
            "Epoch 90/100, Cost: 0.1162, Train Accuracy: 0.9768, Validation Accuracy: 0.9710\n",
            "Epoch 91/100, Cost: 0.1154, Train Accuracy: 0.9769, Validation Accuracy: 0.9711\n",
            "Epoch 92/100, Cost: 0.1141, Train Accuracy: 0.9771, Validation Accuracy: 0.9717\n",
            "Epoch 93/100, Cost: 0.1143, Train Accuracy: 0.9774, Validation Accuracy: 0.9713\n",
            "Epoch 94/100, Cost: 0.1144, Train Accuracy: 0.9775, Validation Accuracy: 0.9715\n",
            "Epoch 95/100, Cost: 0.1120, Train Accuracy: 0.9776, Validation Accuracy: 0.9715\n",
            "Epoch 96/100, Cost: 0.1139, Train Accuracy: 0.9780, Validation Accuracy: 0.9715\n",
            "Epoch 97/100, Cost: 0.1120, Train Accuracy: 0.9779, Validation Accuracy: 0.9714\n",
            "Epoch 98/100, Cost: 0.1125, Train Accuracy: 0.9780, Validation Accuracy: 0.9723\n",
            "Epoch 99/100, Cost: 0.1091, Train Accuracy: 0.9781, Validation Accuracy: 0.9727\n",
            "Epoch 100/100, Cost: 0.1087, Train Accuracy: 0.9783, Validation Accuracy: 0.9726\n"
          ]
        }
      ]
    }
  ]
}